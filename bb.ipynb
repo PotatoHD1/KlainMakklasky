{
 "cells": [
  {
   "cell_type": "code",
   "execution_count": 2,
   "metadata": {
    "collapsed": true
   },
   "outputs": [
    {
     "data": {
      "text/plain": "-15170",
      "image/png": "[encoded data removed]",
      "text/latex": "$\\displaystyle -15170$"
     },
     "execution_count": 2,
     "metadata": {},
     "output_type": "execute_result"
    }
   ],
   "source": [
    "from sympy import *\n",
    "init_printing()\n",
    "%matplotlib inline\n",
    "var('a b c x')\n",
    "f = (0*x+5)*(0**2*x**2 + 2*a*0*x+(-55**2-9))\n",
    "factor(f)"
   ]
  }
 ],
 "metadata": {
  "kernelspec": {
   "name": "pycharm-700ff0a6",
   "language": "python",
   "display_name": "PyCharm (Study)"
  },
  "language_info": {
   "codemirror_mode": {
    "name": "ipython",
    "version": 2
   },
   "file_extension": ".py",
   "mimetype": "text/x-python",
   "name": "python",
   "nbconvert_exporter": "python",
   "pygments_lexer": "ipython2",
   "version": "2.7.6"
  }
 },
 "nbformat": 4,
 "nbformat_minor": 0
}